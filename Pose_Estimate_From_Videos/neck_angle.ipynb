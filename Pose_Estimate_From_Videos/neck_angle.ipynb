{
 "cells": [
  {
   "cell_type": "code",
   "execution_count": null,
   "id": "5b2ea117-f104-4805-ad39-3a450b31171c",
   "metadata": {},
   "outputs": [
    {
     "name": "stdout",
     "output_type": "stream",
     "text": [
      "Error: Could not open video file 'NeckPosture.avi'\n",
      "Processed video saved to 'processed_NeckPosture.avi'\n"
     ]
    },
    {
     "name": "stderr",
     "output_type": "stream",
     "text": [
      "WARNING: All log messages before absl::InitializeLog() is called are written to STDERR\n",
      "I0000 00:00:1737683776.674525 7575562 gl_context.cc:369] GL version: 2.1 (2.1 Metal - 89.3), renderer: Apple M1 Pro\n",
      "INFO: Created TensorFlow Lite XNNPACK delegate for CPU.\n",
      "OpenCV: Couldn't read video stream from file \"NeckPosture.avi\"\n",
      "[ WARN:0@0.494] global cap.cpp:781 open VIDEOIO(CV_IMAGES): raised OpenCV exception:\n",
      "\n",
      "OpenCV(4.11.0) /Users/xperience/GHA-Actions-OpenCV/_work/opencv-python/opencv-python/opencv/modules/videoio/src/cap_images.cpp:415: error: (-215:Assertion failed) !filename_pattern.empty() in function 'CvVideoWriter_Images'\n",
      "\n",
      "\n"
     ]
    }
   ],
   "source": [
    "import cv2\n",
    "import mediapipe as mp\n",
    "import numpy as np\n",
    "\n",
    "# Initialize MediaPipe Pose\n",
    "mp_pose = mp.solutions.pose\n",
    "pose = mp_pose.Pose()\n",
    "mp_drawing = mp.solutions.drawing_utils\n",
    "\n",
    "video_path = \"NeckPosture.avi\" \n",
    "cap = cv2.VideoCapture(video_path)\n",
    "\n",
    "if not cap.isOpened():\n",
    "    print(f\"Error: Could not open video file '{video_path}'\")\n",
    "    exit()\n",
    "\n",
    "output_path = \"processed_NeckPosture.avi\" \n",
    "fourcc = cv2.VideoWriter_fourcc(*'XVID')\n",
    "fps = int(cap.get(cv2.CAP_PROP_FPS))\n",
    "frame_width = int(cap.get(cv2.CAP_PROP_FRAME_WIDTH))\n",
    "frame_height = int(cap.get(cv2.CAP_PROP_FRAME_HEIGHT))\n",
    "out = cv2.VideoWriter(output_path, fourcc, fps, (frame_width, frame_height))\n",
    "\n",
    "while cap.isOpened():\n",
    "    ret, frame = cap.read()\n",
    "    if not ret:\n",
    "        break\n",
    "\n",
    "    rgb_frame = cv2.cvtColor(frame, cv2.COLOR_BGR2RGB)\n",
    "\n",
    "    # Get pose landmarks\n",
    "    results = pose.process(rgb_frame)\n",
    "    if results.pose_landmarks:\n",
    "        landmarks = results.pose_landmarks.landmark\n",
    "\n",
    "        left_shoulder = np.array([landmarks[mp_pose.PoseLandmark.LEFT_SHOULDER].x,\n",
    "                                  landmarks[mp_pose.PoseLandmark.LEFT_SHOULDER].y])\n",
    "        right_shoulder = np.array([landmarks[mp_pose.PoseLandmark.RIGHT_SHOULDER].x,\n",
    "                                   landmarks[mp_pose.PoseLandmark.RIGHT_SHOULDER].y])\n",
    "        nose = np.array([landmarks[mp_pose.PoseLandmark.NOSE].x,\n",
    "                         landmarks[mp_pose.PoseLandmark.NOSE].y])\n",
    "\n",
    "        # Calculate neck base\n",
    "        neck_base = (left_shoulder + right_shoulder) / 2\n",
    "\n",
    "        # Calculate angle\n",
    "        neck_vector = nose - neck_base\n",
    "        horizontal_vector = np.array([1, 0])\n",
    "        angle = np.arctan2(neck_vector[1], neck_vector[0]) \n",
    "        angle_deg = np.abs(np.degrees(angle))\n",
    "\n",
    "        cv2.putText(frame, f'Neck Angle: {angle_deg:.2f} deg', (50, 50), cv2.FONT_HERSHEY_SIMPLEX, 1, (255, 0, 0), 2)\n",
    "\n",
    "        mp_drawing.draw_landmarks(frame, results.pose_landmarks, mp_pose.POSE_CONNECTIONS)\n",
    "\n",
    "    out.write(frame)\n",
    "\n",
    "    cv2.imshow('Neck Posture Analysis', frame)\n",
    "    if cv2.waitKey(1) & 0xFF == ord('q'):\n",
    "        break\n",
    "\n",
    "cap.release()\n",
    "out.release()\n",
    "cv2.destroyAllWindows()\n",
    "\n",
    "print(f\"Processed video saved to '{output_path}'\")"
   ]
  },
  {
   "cell_type": "code",
   "execution_count": null,
   "id": "6aaff8fa-2434-4939-96dd-0e2e5c7fc4af",
   "metadata": {},
   "outputs": [],
   "source": []
  }
 ],
 "metadata": {
  "kernelspec": {
   "display_name": "Python [conda env:base] *",
   "language": "python",
   "name": "conda-base-py"
  },
  "language_info": {
   "codemirror_mode": {
    "name": "ipython",
    "version": 3
   },
   "file_extension": ".py",
   "mimetype": "text/x-python",
   "name": "python",
   "nbconvert_exporter": "python",
   "pygments_lexer": "ipython3",
   "version": "3.12.7"
  }
 },
 "nbformat": 4,
 "nbformat_minor": 5
}
